{
 "cells": [
  {
   "cell_type": "markdown",
   "metadata": {},
   "source": [
    "## 머신러닝\n",
    "### 지도학습\n",
    "- 분류\n",
    "- 회귀\n",
    "- 추천 시스템\n",
    "- 시각/음성 감지/인지\n",
    "- 텍스트 분석, NLP\n",
    "\n",
    "### 비지도학습\n",
    "- 클러스터링\n",
    "- 차원 축소\n",
    "- 강화학습\n",
    "\n",
    "## 파이썬 머신러닝 생태계 패키지\n",
    "- 머신러닝: 사이킷런, 케라스 (딥러닝 전문)\n",
    "- 행렬/선형대수/통계: 넘파이\n",
    "- 데이터 핸들링: 판다스\n",
    "- 시각화: 맷플롯립, 시본"
   ]
  },
  {
   "cell_type": "markdown",
   "metadata": {},
   "source": [
    "## Numpy\n",
    "- Numeric Python\n",
    "- ndarray 내의 데이터타입은 연산 특성상 같은 데이터타입만 가능. 만약 다른 데이터 유형이 섞인 리스트를 변환하면 데이터 크기가 더 큰 데이터타입으로 형 변환을 일괄적용함\n",
    "\n",
    "- np.array(): ndarray로 변환 원하는 인자 입력시 ndarray 출력\n",
    "- ndarray.shape: (차원, 크기(칼럼수)) -> 데이터갯수: 차원 * 크기\n",
    "- dtype: ndarray 내의 데이터 타입 확인\n",
    "- astype: ndarray내 데이터값 타입 변경"
   ]
  },
  {
   "cell_type": "code",
   "execution_count": 1,
   "metadata": {},
   "outputs": [
    {
     "name": "stdout",
     "output_type": "stream",
     "text": [
      "type: <class 'numpy.ndarray'>\n",
      "shape: (3,)\n",
      "type: <class 'numpy.ndarray'>\n",
      "shape: (2, 3)\n",
      "type: <class 'numpy.ndarray'>\n",
      "shape: (1, 3)\n"
     ]
    }
   ],
   "source": [
    "import numpy as np\n",
    "\n",
    "array1 = np.array([1, 2, 3])\n",
    "print(f\"type: {type(array1)}\")\n",
    "print(f\"shape: {array1.shape}\")\n",
    "\n",
    "array2 = np.array([\n",
    "    [1, 2, 3,],\n",
    "    [2, 3, 4],\n",
    "])\n",
    "print(f\"type: {type(array2)}\")\n",
    "print(f\"shape: {array2.shape}\")\n",
    "\n",
    "array3 = np.array([[1, 2, 3]])\n",
    "print(f\"type: {type(array3)}\")\n",
    "print(f\"shape: {array3.shape}\")"
   ]
  },
  {
   "cell_type": "code",
   "execution_count": 2,
   "metadata": {},
   "outputs": [
    {
     "name": "stdout",
     "output_type": "stream",
     "text": [
      "array1: 1, array2: 2, array3: 2\n"
     ]
    }
   ],
   "source": [
    "print(f\"array1: {array1.ndim}, array2: {array2.ndim}, array3: {array3.ndim}\")"
   ]
  },
  {
   "cell_type": "code",
   "execution_count": 6,
   "metadata": {},
   "outputs": [
    {
     "name": "stdout",
     "output_type": "stream",
     "text": [
      "<class 'type'>\n",
      "<class 'numpy.ndarray'>\n",
      "[1 2 3] int64\n",
      "['1' '2' 'test'] <U21\n",
      "[1.  2.  3.7] float64\n"
     ]
    }
   ],
   "source": [
    "list1 = [1, 2, 3]\n",
    "print(type(list))\n",
    "array1 = np.array(list1)\n",
    "print(type(array1))\n",
    "print(array1, array1.dtype)\n",
    "\n",
    "list2 = [1, 2, 'test']\n",
    "array2 = np.array(list2)\n",
    "print(array2, array2.dtype)\n",
    "\n",
    "list3 = [1, 2, 3.7]\n",
    "array3 = np.array(list3)\n",
    "print(array3, array3.dtype)"
   ]
  },
  {
   "cell_type": "code",
   "execution_count": 7,
   "metadata": {},
   "outputs": [
    {
     "name": "stdout",
     "output_type": "stream",
     "text": [
      "[1. 2. 3.] float64\n"
     ]
    }
   ],
   "source": [
    "# atype\n",
    "array_int = np.array([1, 2, 3])\n",
    "array_float = array_int.astype('float64')\n",
    "print(array_float, array_float.dtype)"
   ]
  },
  {
   "cell_type": "markdown",
   "metadata": {},
   "source": [
    "## ndarray를 편리하게 생성하기\n",
    "- arange\n",
    "- zeros: 튜플 형태의 shape값 입력\n",
    "- ones: 튜플 형태의 shape값 입력"
   ]
  },
  {
   "cell_type": "code",
   "execution_count": 12,
   "metadata": {},
   "outputs": [
    {
     "name": "stdout",
     "output_type": "stream",
     "text": [
      "[0 1 2 3 4 5 6 7 8 9]\n",
      "int64 (10,)\n"
     ]
    }
   ],
   "source": [
    "sequence_array = np.arange(10)\n",
    "print(sequence_array)\n",
    "print(sequence_array.dtype, sequence_array.shape)"
   ]
  },
  {
   "cell_type": "code",
   "execution_count": 11,
   "metadata": {},
   "outputs": [
    {
     "name": "stdout",
     "output_type": "stream",
     "text": [
      "[[0 0]\n",
      " [0 0]\n",
      " [0 0]]\n",
      "int32 (3, 2)\n",
      "[[1. 1.]\n",
      " [1. 1.]\n",
      " [1. 1.]]\n",
      "float64 (3, 2)\n"
     ]
    }
   ],
   "source": [
    "zero_array = np.zeros((3, 2), dtype='int32')\n",
    "print(zero_array)\n",
    "print(zero_array.dtype, zero_array.shape)\n",
    "\n",
    "one_array = np.ones((3, 2))\n",
    "print(one_array)\n",
    "print(one_array.dtype, one_array.shape)"
   ]
  },
  {
   "cell_type": "markdown",
   "metadata": {},
   "source": [
    "- reshape: ndarray의 차원과 크기를 변경. 지정된 사이즈로 변경이 불가하면 에러 발생\n",
    "- -1를 인자로 사용하면 원래의 ndarray와 호환되는 새로운 shape로 변환해줌. 주로 reshape(-1, 1)같은 스타일로 많이 사용됨"
   ]
  },
  {
   "cell_type": "code",
   "execution_count": 17,
   "metadata": {},
   "outputs": [
    {
     "name": "stdout",
     "output_type": "stream",
     "text": [
      "[0 1 2 3 4 5 6 7 8 9]\n",
      "[[0 1 2 3 4]\n",
      " [5 6 7 8 9]]\n",
      "[[0 1]\n",
      " [2 3]\n",
      " [4 5]\n",
      " [6 7]\n",
      " [8 9]]\n"
     ]
    }
   ],
   "source": [
    "array1 = np.arange(10)\n",
    "print(array1)\n",
    "\n",
    "array2 = array1.reshape(2, 5)\n",
    "print(array2)\n",
    "\n",
    "array3 = array1.reshape(5, -1)\n",
    "print(array3)"
   ]
  },
  {
   "cell_type": "markdown",
   "metadata": {},
   "source": [
    "## indexing\n",
    "- 특정 데이터만 추출 (이렇게 추출된거 제외한 다른 것들은 모두 ndarray 형식)\n",
    "- 슬라이싱\n",
    "- 팬시 인덱싱: 일정한 인덱싱 집합을 리스트나 ndarray형태로 지정해 해당 위치에 있는 데이터의 ndarray 반환\n",
    "- 불린 인덱싱: 특정 조건에 해당하는지 여부인 T/F값 인덱싱 집한을 기반으로 True에 해당하는 인덱스 위치에 있는 데이터의 ndarray를 반환\n",
    "    - 조건 필터링과 검색을 동시에 할 수 있어 자주 사용됨"
   ]
  },
  {
   "cell_type": "code",
   "execution_count": 23,
   "metadata": {},
   "outputs": [
    {
     "name": "stdout",
     "output_type": "stream",
     "text": [
      "2\n",
      "[[0 1 2]\n",
      " [3 4 5]\n",
      " [6 7 8]]\n",
      "[0 1 2]\n",
      "[[0 1]\n",
      " [3 4]\n",
      " [6 7]]\n"
     ]
    }
   ],
   "source": [
    "# 단일값\n",
    "array1 = np.arange(9)\n",
    "print(array1[2])\n",
    "\n",
    "array2 = array1.reshape(-1, 3)\n",
    "print(array2)\n",
    "\n",
    "# 슬라이싱\n",
    "print(array1[0:3])\n",
    "print(array2[0:3, 0:2]) # row, col"
   ]
  },
  {
   "cell_type": "code",
   "execution_count": 26,
   "metadata": {},
   "outputs": [
    {
     "name": "stdout",
     "output_type": "stream",
     "text": [
      "[3 6]\n",
      "[[1 2]\n",
      " [4 5]]\n"
     ]
    }
   ],
   "source": [
    "# 팬시 인덱싱\n",
    "array1 = np.arange(start=1, stop=10)\n",
    "array2 = array1.reshape(3, 3)\n",
    "\n",
    "print(array2[[0,1], 2])\n",
    "print(array2[[0, 1], 0:2])"
   ]
  },
  {
   "cell_type": "code",
   "execution_count": 28,
   "metadata": {},
   "outputs": [
    {
     "name": "stdout",
     "output_type": "stream",
     "text": [
      "[6 7 8 9]\n"
     ]
    }
   ],
   "source": [
    "# 불린 인덱싱\n",
    "array3 = array1[array1 > 5]\n",
    "print(array3)"
   ]
  },
  {
   "cell_type": "markdown",
   "metadata": {},
   "source": [
    "## 행렬의 정렬\n",
    "### sort()\n",
    "- np.sort(): 원 행렬을 유지한 채 원 행렬의 정렬된 행렬을 반환함\n",
    "- ndarray.sort(): 원 행렬 자체를 정렬된 형태로 변환하며 None 값 반환\n",
    "- 내림차순으로 반환하려면 맨 뒤에 [::-1]붙여주면 됨\n",
    "- 행렬이 2차원 이상일 경우에는 axis 축값설정을 통해 로우나 칼럼방향으로 정렬 수행이 가능\n",
    "\n",
    "### argsort()\n",
    "- np.argsort(): 정렬행렬의 원본행렬 인덱스를 ndarray형으로 반환\n",
    "- 내림차순으로 반환하려면 맨 뒤에 [::-1]붙여주면 됨\n",
    "- 활용 예시: 시험 성적순으로 학생 이름을 출력하고자 할 때"
   ]
  },
  {
   "cell_type": "code",
   "execution_count": 32,
   "metadata": {},
   "outputs": [
    {
     "name": "stdout",
     "output_type": "stream",
     "text": [
      "[1 3 6 8]\n",
      "[3 1 8 6]\n",
      "None\n",
      "[1 3 6 8]\n",
      "[[ 7  1]\n",
      " [ 8 12]]\n",
      "[[ 8 12]\n",
      " [ 1  7]]\n",
      "[1 0 3 2]\n"
     ]
    }
   ],
   "source": [
    "# sort\n",
    "org_arr = np.array([3, 1, 8, 6])\n",
    "sort_arr1 = np.sort(org_arr)\n",
    "print(sort_arr1)\n",
    "print(org_arr)\n",
    "\n",
    "sort_arr2 = org_arr.sort()\n",
    "print(sort_arr2)\n",
    "print(org_arr)\n",
    "\n",
    "# 2차원 이상\n",
    "array2d = np.array([\n",
    "    [8,12],\n",
    "    [7, 1]\n",
    "])\n",
    "\n",
    "# row\n",
    "sort_array2d_axis0 = np.sort(array2d, axis=0)\n",
    "print(sort_array2d_axis0)\n",
    "\n",
    "# col\n",
    "sort_array2d_axis1 = np.sort(array2d, axis=1)\n",
    "print(sort_array2d_axis1)\n",
    "\n",
    "\n",
    "# argsort()\n",
    "org_arr = np.array([3, 1, 8, 6])\n",
    "indices = np.argsort(org_arr)\n",
    "print(indices)"
   ]
  },
  {
   "cell_type": "markdown",
   "metadata": {},
   "source": [
    "## 선형대수 연산\n",
    "### 행렬 내적\n",
    "- np.dot(): 행렬 내적계산 가능\n",
    "\n",
    "### 전치 행렬\n",
    "- 원 행렬에서 행과 열위치를 교환한 원소로 구성한 행렬"
   ]
  },
  {
   "cell_type": "code",
   "execution_count": 34,
   "metadata": {},
   "outputs": [
    {
     "name": "stdout",
     "output_type": "stream",
     "text": [
      "[[ 58  64]\n",
      " [139 154]]\n"
     ]
    }
   ],
   "source": [
    "# 행렬 내적\n",
    "arr1 = np.array([\n",
    "    [1, 2, 3],\n",
    "    [4, 5, 6]\n",
    "])\n",
    "arr2 = np.array([\n",
    "    [7, 8],\n",
    "    [9, 10],\n",
    "    [11, 12],\n",
    "])\n",
    "print(np.dot(arr1, arr2))"
   ]
  },
  {
   "cell_type": "code",
   "execution_count": 35,
   "metadata": {},
   "outputs": [
    {
     "name": "stdout",
     "output_type": "stream",
     "text": [
      "[[1 3]\n",
      " [2 4]]\n"
     ]
    }
   ],
   "source": [
    "# 전치행렬\n",
    "arr = np.array([\n",
    "    [1, 2],\n",
    "    [3, 4]\n",
    "])\n",
    "transpost_mat = np.transpose(arr)\n",
    "print(transpost_mat)"
   ]
  },
  {
   "cell_type": "code",
   "execution_count": null,
   "metadata": {},
   "outputs": [],
   "source": []
  }
 ],
 "metadata": {
  "kernelspec": {
   "display_name": "Python 3",
   "language": "python",
   "name": "python3"
  },
  "language_info": {
   "codemirror_mode": {
    "name": "ipython",
    "version": 3
   },
   "file_extension": ".py",
   "mimetype": "text/x-python",
   "name": "python",
   "nbconvert_exporter": "python",
   "pygments_lexer": "ipython3",
   "version": "3.6.4"
  }
 },
 "nbformat": 4,
 "nbformat_minor": 4
}
